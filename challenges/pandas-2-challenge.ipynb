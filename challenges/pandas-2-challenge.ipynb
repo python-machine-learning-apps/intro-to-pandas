{
 "cells": [
  {
   "cell_type": "markdown",
   "metadata": {
    "id": "2CkckTc6-txA"
   },
   "source": [
    "# Exploratory Data Analysis"
   ]
  },
  {
   "cell_type": "markdown",
   "metadata": {
    "id": "_7uhS1HHOaR-"
   },
   "source": [
    "## Overview\n",
    "\n",
    "In order to practice Loading Datasets, we're going to use the [Flags Dataset](https://archive.ics.uci.edu/ml/datasets/Flags) from UCI to show both loading the dataset via its URL and from a local file.\n",
    "\n",
    "Steps for loading a dataset:\n",
    "\n",
    "1) Learn as much as you can about the dataset:\n",
    " - Number of rows\n",
    " - Number of columns\n",
    " - Column headers (Is there a \"data dictionary\"?)\n",
    " - Is there missing data?\n",
    " - **OPEN THE RAW FILE AND LOOK AT IT. IT MAY NOT BE FORMATTED IN THE WAY THAT YOU EXPECT.**\n",
    "\n",
    "2) Try loading the dataset using `pandas.read_csv()` and if things aren't acting the way that you expect, investigate until you can get it loading correctly.\n",
    "\n",
    "3) Keep in mind that functions like `pandas.read_csv()` have a lot of optional parameters that might help us change the way that data is read in. If you get stuck, google, read the documentation, and try things out.\n",
    "\n",
    "4) You might need to type out column headers by hand if they are not provided in a neat format in the original dataset. It can be a drag."
   ]
  },
  {
   "cell_type": "markdown",
   "metadata": {
    "id": "vZobh57ag1S9"
   },
   "source": [
    "### Learn about the dataset and look at the raw file."
   ]
  },
  {
   "cell_type": "code",
   "execution_count": 1,
   "metadata": {
    "id": "sYypbXovgaSi"
   },
   "outputs": [],
   "source": [
    "# Find the actual file to download\n",
    "# From navigating the page, clicking \"Data Folder\"\n",
    "# Right click on the link to the dataset and say \"Copy Link Address\"\n",
    "\n",
    "flag_data_url = 'https://archive.ics.uci.edu/ml/machine-learning-databases/flags/flag.data'\n",
    "\n",
    "# You can \"shell out\" in a notebook for more powerful tools\n",
    "# https://jakevdp.github.io/PythonDataScienceHandbook/01.05-ipython-and-shell-commands.html\n",
    "\n",
    "# Funny extension, but on inspection looks like a csv\n",
    "\n",
    "# Extensions are just a norm! You have to inspect to be sure what something is"
   ]
  },
  {
   "cell_type": "markdown",
   "metadata": {
    "id": "KncohxMIg5Dq"
   },
   "source": [
    "### Attempt to load it via its URL"
   ]
  },
  {
   "cell_type": "code",
   "execution_count": 2,
   "metadata": {
    "id": "-r24OTvggWub"
   },
   "outputs": [],
   "source": [
    "# Load the flags dataset from its URL:\n"
   ]
  },
  {
   "cell_type": "code",
   "execution_count": 3,
   "metadata": {},
   "outputs": [],
   "source": [
    "# how does it look?"
   ]
  },
  {
   "cell_type": "markdown",
   "metadata": {
    "id": "1hI3GvRgg818"
   },
   "source": [
    "If things go wrong, investigate and try to figure out why.\n"
   ]
  },
  {
   "cell_type": "markdown",
   "metadata": {
    "id": "8PK-Njl0hJxz"
   },
   "source": [
    "#### Different ways to look at the documentation:\n",
    "https://archive.ics.uci.edu/ml/machine-learning-databases/flags"
   ]
  },
  {
   "cell_type": "markdown",
   "metadata": {
    "id": "xuX3bUdOhQ1S"
   },
   "source": [
    "### Try Again"
   ]
  },
  {
   "cell_type": "code",
   "execution_count": 4,
   "metadata": {
    "id": "AJfCoAg-hRzq"
   },
   "outputs": [],
   "source": [
    "# Keep on trying things until you get it. \n",
    "# If you really mess things up you can always just restart your runtime\n",
    "column_headers = ['name', 'landmass', 'zone', 'area', 'population', 'language', 'religion', 'bars', 'stripes', 'colors', 'red', 'green',\n",
    "                  'blue', 'gold', 'white', 'black', 'orange', 'mainhue', 'circles', 'crosses', 'saltires', 'quarters', 'sunstars', 'crescent',\n",
    "                  'triangle', 'icon', 'animate', 'text', 'topleft', 'botright']"
   ]
  },
  {
   "cell_type": "code",
   "execution_count": 5,
   "metadata": {},
   "outputs": [],
   "source": [
    "# try again\n"
   ]
  },
  {
   "cell_type": "markdown",
   "metadata": {
    "id": "Hi71j4Y-Oj1q"
   },
   "source": [
    "### Load a dataset (CSV) from a local file"
   ]
  },
  {
   "cell_type": "code",
   "execution_count": 6,
   "metadata": {
    "id": "SliGiU1zhbea"
   },
   "outputs": [],
   "source": [
    "# now load it from the \"data\" folder in our repo"
   ]
  },
  {
   "cell_type": "code",
   "execution_count": 7,
   "metadata": {},
   "outputs": [],
   "source": [
    "# save your output as a new file"
   ]
  },
  {
   "cell_type": "markdown",
   "metadata": {
    "id": "5iFyoAdDOoqu"
   },
   "source": [
    "### Use basic Pandas functions for Exploratory Data Analysis (EDA)"
   ]
  },
  {
   "cell_type": "markdown",
   "metadata": {
    "id": "k9DobU7dqILL"
   },
   "source": [
    "## Overview\n",
    "\n",
    "> Exploratory Data Analysis (EDA) refers to the critical process of performing initial investigations on data so as to discover patterns, to spot anomalies, to test hypotheses and to check assumptions with the help of summary statistics and graphical representations\n"
   ]
  },
  {
   "cell_type": "markdown",
   "metadata": {
    "id": "iRBUyBOWog7X"
   },
   "source": [
    "## Follow Along\n",
    "\n",
    "What can we discover about this dataset?\n",
    "\n",
    "- df.shape\n",
    "- df.head()\n",
    "- df.dtypes\n",
    "- df.describe()\n",
    " - Numeric\n",
    " - Non-Numeric\n",
    "- df['column'].value_counts()\n",
    "- df.isnull().sum()\n",
    "- df.fillna()\n",
    "- df.dropna()\n",
    "- df.drop()\n",
    "- pd.crosstab()"
   ]
  },
  {
   "cell_type": "markdown",
   "metadata": {
    "id": "cGU_UjFKpGsE"
   },
   "source": [
    "Lets try reading in a new dataset: The Adult Dataset\n",
    "https://archive.ics.uci.edu/ml/datasets/adult"
   ]
  },
  {
   "cell_type": "code",
   "execution_count": 8,
   "metadata": {
    "id": "1krc6cQwYSeo"
   },
   "outputs": [],
   "source": [
    "# a new dataset"
   ]
  },
  {
   "cell_type": "code",
   "execution_count": 9,
   "metadata": {},
   "outputs": [],
   "source": [
    "column_headers2=['age', 'workclass', 'fnlwgt', 'education', 'education-num', 'marital-status', 'occupation', 'relationship',\n",
    "                 'race', 'sex', 'capital-gain', 'capital-loss', 'hours-per-week', 'native-country', 'income']"
   ]
  },
  {
   "cell_type": "code",
   "execution_count": 10,
   "metadata": {
    "colab": {
     "base_uri": "https://localhost:8080/",
     "height": 319
    },
    "id": "zahnNsw2YGc6",
    "outputId": "c0d5558d-693f-4400-f495-53a5f0e97d80"
   },
   "outputs": [],
   "source": [
    "# try reading it in"
   ]
  },
  {
   "cell_type": "code",
   "execution_count": 11,
   "metadata": {
    "colab": {
     "base_uri": "https://localhost:8080/",
     "height": 35
    },
    "id": "jGBHoTmBYGpt",
    "outputId": "78adfe5d-fa6b-483e-d89b-1e23f8089616"
   },
   "outputs": [],
   "source": [
    "#shape"
   ]
  },
  {
   "cell_type": "code",
   "execution_count": 12,
   "metadata": {
    "colab": {
     "base_uri": "https://localhost:8080/",
     "height": 104
    },
    "id": "cVP_UTJ2YG01",
    "outputId": "6780c3f6-d0b7-46d5-c569-72e6a5e2869a"
   },
   "outputs": [],
   "source": [
    "# what columns?"
   ]
  },
  {
   "cell_type": "code",
   "execution_count": 13,
   "metadata": {
    "colab": {
     "base_uri": "https://localhost:8080/",
     "height": 294
    },
    "id": "0adm6sKOYG5G",
    "outputId": "b52f1cdc-5772-4016-a36a-36a6f1d3d967"
   },
   "outputs": [],
   "source": [
    "# data types"
   ]
  },
  {
   "cell_type": "code",
   "execution_count": 14,
   "metadata": {
    "colab": {
     "base_uri": "https://localhost:8080/",
     "height": 288
    },
    "id": "mrbgdZ6JYGxi",
    "outputId": "9947dd0e-4dff-449a-b0de-2e4caa058154"
   },
   "outputs": [],
   "source": [
    "# summary stats"
   ]
  },
  {
   "cell_type": "code",
   "execution_count": 15,
   "metadata": {
    "colab": {
     "base_uri": "https://localhost:8080/",
     "height": 319
    },
    "id": "4V214zDkZPGy",
    "outputId": "b587895d-643e-48bd-a227-a9f79cba7e87"
   },
   "outputs": [],
   "source": [
    "# compare to the whole dataframe"
   ]
  },
  {
   "cell_type": "code",
   "execution_count": 16,
   "metadata": {
    "colab": {
     "base_uri": "https://localhost:8080/",
     "height": 198
    },
    "id": "nrMk-6n3YGus",
    "outputId": "01824d1c-a4d7-4235-8421-1d26ee06054d"
   },
   "outputs": [],
   "source": [
    "# filter to specific columns"
   ]
  },
  {
   "cell_type": "code",
   "execution_count": 17,
   "metadata": {
    "colab": {
     "base_uri": "https://localhost:8080/",
     "height": 198
    },
    "id": "QXAJYiQ5ZITV",
    "outputId": "3c64ea32-e77e-4094-c19d-bf92e7e007a4"
   },
   "outputs": [],
   "source": [
    "# filter to multiple columns"
   ]
  },
  {
   "cell_type": "code",
   "execution_count": 18,
   "metadata": {
    "colab": {
     "base_uri": "https://localhost:8080/",
     "height": 35
    },
    "id": "l4znDJxxZIY9",
    "outputId": "eae00e70-a63c-4462-c050-7745ef33f57a"
   },
   "outputs": [],
   "source": [
    "# filter specific rows"
   ]
  },
  {
   "cell_type": "code",
   "execution_count": 19,
   "metadata": {
    "colab": {
     "base_uri": "https://localhost:8080/",
     "height": 121
    },
    "id": "6xoriI_MZIhg",
    "outputId": "ba1c5d52-9946-4e74-fae6-9085b3d1bbbf"
   },
   "outputs": [],
   "source": [
    "# frequencies of a column"
   ]
  },
  {
   "cell_type": "code",
   "execution_count": 20,
   "metadata": {
    "colab": {
     "base_uri": "https://localhost:8080/",
     "height": 391
    },
    "id": "zRH816fOZIew",
    "outputId": "a82d48ee-7105-4e58-99c8-1e2b082e0a3f"
   },
   "outputs": [],
   "source": [
    "# what about missing values?"
   ]
  },
  {
   "cell_type": "code",
   "execution_count": 21,
   "metadata": {
    "colab": {
     "base_uri": "https://localhost:8080/",
     "height": 294
    },
    "id": "tOSmwGdtZIdP",
    "outputId": "cdd8c46a-abad-4137-f056-91dbdb09fe19"
   },
   "outputs": [],
   "source": [
    "# check for any missing data!"
   ]
  },
  {
   "cell_type": "code",
   "execution_count": 22,
   "metadata": {
    "id": "ActOhzpDaxBD"
   },
   "outputs": [],
   "source": [
    "# recode that question mark as missing!"
   ]
  },
  {
   "cell_type": "code",
   "execution_count": 23,
   "metadata": {
    "colab": {
     "base_uri": "https://localhost:8080/",
     "height": 294
    },
    "id": "h-ben_QuaxFF",
    "outputId": "afec726d-6536-4713-ace3-cb8a892a9134"
   },
   "outputs": [],
   "source": [
    "# check for any missing data!"
   ]
  },
  {
   "cell_type": "code",
   "execution_count": 24,
   "metadata": {
    "colab": {
     "base_uri": "https://localhost:8080/",
     "height": 52
    },
    "id": "JPg8WZ9Haw-J",
    "outputId": "2a0b98b7-e5b5-40bd-ad53-82bc8c294218"
   },
   "outputs": [],
   "source": [
    "# drop all missing data!"
   ]
  },
  {
   "cell_type": "code",
   "execution_count": 25,
   "metadata": {
    "colab": {
     "base_uri": "https://localhost:8080/",
     "height": 294
    },
    "id": "Lnx-m2PVaw7k",
    "outputId": "d972f4e1-256e-4c39-e8a8-05388fba7d56"
   },
   "outputs": [],
   "source": [
    "# check for any missing data!"
   ]
  },
  {
   "cell_type": "code",
   "execution_count": 26,
   "metadata": {
    "id": "qrFLL1zqcnjM"
   },
   "outputs": [],
   "source": [
    "# create some missing data!"
   ]
  },
  {
   "cell_type": "code",
   "execution_count": 27,
   "metadata": {
    "colab": {
     "base_uri": "https://localhost:8080/",
     "height": 408
    },
    "id": "gnVggPkUc2ey",
    "outputId": "4dcb1542-8a5c-4209-9e9d-07ca9d88c889"
   },
   "outputs": [],
   "source": [
    "# nothing here"
   ]
  },
  {
   "cell_type": "code",
   "execution_count": 28,
   "metadata": {
    "colab": {
     "base_uri": "https://localhost:8080/",
     "height": 294
    },
    "id": "2Js9Hf3vdAk7",
    "outputId": "7805ef76-3782-40e1-ce60-d6e4bd55423b"
   },
   "outputs": [],
   "source": [
    "# check for any missing data!"
   ]
  },
  {
   "cell_type": "code",
   "execution_count": 29,
   "metadata": {
    "id": "rXH4WhZPdC5d"
   },
   "outputs": [],
   "source": [
    "# replace missing values!"
   ]
  },
  {
   "cell_type": "code",
   "execution_count": 30,
   "metadata": {
    "colab": {
     "base_uri": "https://localhost:8080/",
     "height": 743
    },
    "id": "7sfhvJWcdXoh",
    "outputId": "0a91e207-2cdb-44d6-e753-eec8bd385dfe"
   },
   "outputs": [],
   "source": [
    "# value freqs"
   ]
  },
  {
   "cell_type": "code",
   "execution_count": 31,
   "metadata": {
    "colab": {
     "base_uri": "https://localhost:8080/",
     "height": 228
    },
    "id": "7MxWr0Ehaw4u",
    "outputId": "bb8fd38d-63b6-43cb-9113-a800c7f7d07d"
   },
   "outputs": [],
   "source": [
    "# how to build a crosstab!"
   ]
  },
  {
   "cell_type": "code",
   "execution_count": 32,
   "metadata": {
    "colab": {
     "base_uri": "https://localhost:8080/",
     "height": 558
    },
    "id": "-qdOsYmXdi7X",
    "outputId": "ce1d6a2e-b157-45a4-fc9e-a23972b42997"
   },
   "outputs": [],
   "source": [
    "# another example"
   ]
  },
  {
   "cell_type": "code",
   "execution_count": 33,
   "metadata": {
    "colab": {
     "base_uri": "https://localhost:8080/",
     "height": 228
    },
    "id": "jubjqjIrdjBy",
    "outputId": "4d083905-5717-4c4a-a9c9-626fc3686865"
   },
   "outputs": [],
   "source": [
    "# what if you want pcts?"
   ]
  },
  {
   "cell_type": "code",
   "execution_count": 34,
   "metadata": {
    "colab": {
     "base_uri": "https://localhost:8080/",
     "height": 258
    },
    "id": "wike7M1Xdi_P",
    "outputId": "eaacafa8-bd02-47bc-ae4f-b049840d40a4"
   },
   "outputs": [],
   "source": [
    "# what if you want margins?"
   ]
  },
  {
   "cell_type": "markdown",
   "metadata": {
    "id": "9pQ5XKZMPA4b"
   },
   "source": [
    "### Generate Basic Visualizations (graphs) with Pandas"
   ]
  },
  {
   "cell_type": "markdown",
   "metadata": {
    "id": "mUdn5YhXqe3m"
   },
   "source": [
    "## Overview\n",
    "\n",
    "One of the cornerstones of Exploratory Data Analysis (EDA) is visualizing our data in order to understand their distributions and how they're interrelated. Our brains are amazing pattern detection machines and sometimes the \"eyeball test\" is the most efficient one. In this section we'll look at some of the most basic kinds of \"exploratory visualizations\" to help us better understand our data."
   ]
  },
  {
   "cell_type": "markdown",
   "metadata": {
    "id": "CE1OpSBpljcU"
   },
   "source": [
    "## Follow Along\n",
    "\n",
    "Lets demonstrate creating a:\n",
    "\n",
    "- Line Plot\n",
    "- Histogram\n",
    "- Scatter Plot\n",
    "- Density Plot\n",
    "- Making plots of our crosstabs\n",
    "\n",
    "How does each of these plots show us something different about the data? \n",
    "\n",
    "Why might it be important for us to be able to visualize how our data is distributed?"
   ]
  },
  {
   "cell_type": "markdown",
   "metadata": {
    "id": "-cPyM8eLlIQB"
   },
   "source": [
    "### Line Plot"
   ]
  },
  {
   "cell_type": "code",
   "execution_count": 35,
   "metadata": {
    "colab": {
     "base_uri": "https://localhost:8080/",
     "height": 225
    },
    "id": "vGXfTAyJlU4J",
    "outputId": "a8cd8f6d-27bd-4c8d-d6e8-1d80091f682c"
   },
   "outputs": [],
   "source": [
    "# freqs"
   ]
  },
  {
   "cell_type": "code",
   "execution_count": 36,
   "metadata": {
    "colab": {
     "base_uri": "https://localhost:8080/",
     "height": 265
    },
    "id": "9FxhqPvLekhM",
    "outputId": "9b2bc7eb-c885-4749-e2f7-b7465d9b8d35"
   },
   "outputs": [],
   "source": [
    "# show that in a plot"
   ]
  },
  {
   "cell_type": "markdown",
   "metadata": {
    "id": "MvT2W_HulJuR"
   },
   "source": [
    "### Histogram"
   ]
  },
  {
   "cell_type": "code",
   "execution_count": 37,
   "metadata": {
    "colab": {
     "base_uri": "https://localhost:8080/",
     "height": 265
    },
    "id": "GJg_yWrMlVRs",
    "outputId": "4322cadc-93cc-4458-dfc6-8be36b0df47a"
   },
   "outputs": [],
   "source": [
    "# default has 10 bins"
   ]
  },
  {
   "cell_type": "code",
   "execution_count": 38,
   "metadata": {
    "colab": {
     "base_uri": "https://localhost:8080/",
     "height": 265
    },
    "id": "Sv9OlbvdfA6N",
    "outputId": "c6550c91-2668-4c9f-a7e7-1f91373be8f0"
   },
   "outputs": [],
   "source": [
    "# add more bins"
   ]
  },
  {
   "cell_type": "markdown",
   "metadata": {
    "id": "P67iVO7ulK5J"
   },
   "source": [
    "### Scatter Plot\n"
   ]
  },
  {
   "cell_type": "code",
   "execution_count": 39,
   "metadata": {
    "colab": {
     "base_uri": "https://localhost:8080/",
     "height": 198
    },
    "id": "Tz9J6YqnlV0j",
    "outputId": "0357b0ca-7f78-4721-f905-b900713b61ea"
   },
   "outputs": [],
   "source": [
    "# take a sample"
   ]
  },
  {
   "cell_type": "code",
   "execution_count": 40,
   "metadata": {
    "colab": {
     "base_uri": "https://localhost:8080/",
     "height": 279
    },
    "id": "8RBs2dOffYqB",
    "outputId": "4869ed78-5bc9-49ee-f4ef-d5329934ddcd"
   },
   "outputs": [],
   "source": [
    "# combine these numeric variables in a scatter plot!"
   ]
  },
  {
   "cell_type": "code",
   "execution_count": 41,
   "metadata": {
    "colab": {
     "base_uri": "https://localhost:8080/",
     "height": 52
    },
    "id": "UFJN-WY5fk_E",
    "outputId": "8b115204-888d-4254-ffa5-834a548ddd10"
   },
   "outputs": [],
   "source": [
    "# let's get rid of outliers!"
   ]
  },
  {
   "cell_type": "code",
   "execution_count": 42,
   "metadata": {
    "colab": {
     "base_uri": "https://localhost:8080/",
     "height": 279
    },
    "id": "xLcMUUv2fxL1",
    "outputId": "a1cdb658-4a08-4f80-cb48-77f22b57d058"
   },
   "outputs": [],
   "source": [
    "# combine these numeric variables in a scatter plot!"
   ]
  },
  {
   "cell_type": "markdown",
   "metadata": {
    "id": "O5Q6uv49lOOZ"
   },
   "source": [
    "### Density Plot - Kernel Density Estimate (KDE)"
   ]
  },
  {
   "cell_type": "code",
   "execution_count": 43,
   "metadata": {
    "colab": {
     "base_uri": "https://localhost:8080/",
     "height": 265
    },
    "id": "MBpB3NqjlWc8",
    "outputId": "422c46f2-ae77-417f-d01b-7b23de115de0"
   },
   "outputs": [],
   "source": [
    "# similar to histogram"
   ]
  },
  {
   "cell_type": "markdown",
   "metadata": {
    "id": "1vwTB_8ZlQHl"
   },
   "source": [
    "### Plotting using Crosstabs"
   ]
  },
  {
   "cell_type": "code",
   "execution_count": 44,
   "metadata": {
    "colab": {
     "base_uri": "https://localhost:8080/",
     "height": 138
    },
    "id": "agnXxQNrlXFC",
    "outputId": "5d11e64f-fbb9-425a-d14e-386615ce67a8"
   },
   "outputs": [],
   "source": [
    "# crosstabs code"
   ]
  },
  {
   "cell_type": "code",
   "execution_count": 45,
   "metadata": {
    "colab": {
     "base_uri": "https://localhost:8080/",
     "height": 309
    },
    "id": "mZy5pa8FgEKB",
    "outputId": "9a58766c-2d4a-41e9-8826-5dfb15ed48d4"
   },
   "outputs": [],
   "source": [
    "# show using a bar chart"
   ]
  },
  {
   "cell_type": "markdown",
   "metadata": {
    "id": "y2qBPH-Wsiar"
   },
   "source": [
    "## Challenge\n",
    "\n",
    "These are some of the most basic and important types of data visualizations. They're so important that they're built straight into Pandas and can be accessed with some very concise code. At the beginning our data exploration is about understanding the characteristics of our dataset, but over time it becomes about communicating insights in as effective and digestable a manner as possible, and that typically means using graphs in one way or another. See how intuitive of a graph you can make using a crosstab on this dataset."
   ]
  }
 ],
 "metadata": {
  "colab": {
   "collapsed_sections": [],
   "include_colab_link": true,
   "name": "LS_DS_111_Exploratory_Data_Analysis.ipynb",
   "provenance": []
  },
  "kernelspec": {
   "display_name": "default:Python",
   "language": "python",
   "name": "conda-env-default-py"
  },
  "language_info": {
   "codemirror_mode": {
    "name": "ipython",
    "version": 3
   },
   "file_extension": ".py",
   "mimetype": "text/x-python",
   "name": "python",
   "nbconvert_exporter": "python",
   "pygments_lexer": "ipython3",
   "version": "3.9.12"
  }
 },
 "nbformat": 4,
 "nbformat_minor": 4
}
