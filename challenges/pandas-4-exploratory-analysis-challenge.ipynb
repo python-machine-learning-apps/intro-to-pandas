{
 "cells": [
  {
   "cell_type": "markdown",
   "metadata": {},
   "source": [
    "# Pandas EDA"
   ]
  },
  {
   "cell_type": "markdown",
   "metadata": {},
   "source": [
    "# 1. EDA Demonstration"
   ]
  },
  {
   "cell_type": "code",
   "execution_count": null,
   "metadata": {
    "id": "Pa2YlP9BlY4n"
   },
   "outputs": [],
   "source": [
    "\n",
    "import pandas as pd"
   ]
  },
  {
   "cell_type": "code",
   "execution_count": null,
   "metadata": {
    "id": "TfYINw-6lY4o"
   },
   "outputs": [],
   "source": [
    "# We will store the orders table csv data in a variable\n",
    "# Tabs are used as the separating character in this file\n"
   ]
  },
  {
   "cell_type": "code",
   "execution_count": null,
   "metadata": {
    "id": "8tt6RFoSlY4q"
   },
   "outputs": [],
   "source": [
    "# Use the head method to investigate the first row of data\n"
   ]
  },
  {
   "cell_type": "code",
   "execution_count": null,
   "metadata": {
    "id": "_VfOvGQ_lY4q"
   },
   "outputs": [],
   "source": [
    "# Create a dataframe to view the column names and data types\n"
   ]
  },
  {
   "cell_type": "code",
   "execution_count": null,
   "metadata": {
    "id": "GHiK8cm4lY4r"
   },
   "outputs": [],
   "source": [
    "# Use the shape attribute to determine the amount of rows and columns total\n"
   ]
  },
  {
   "cell_type": "code",
   "execution_count": null,
   "metadata": {
    "id": "GKiKDLiElY4r"
   },
   "outputs": [],
   "source": [
    "# Use the .columns property to list out the column names\n",
    "# Use the .index.name property to identify the index\n"
   ]
  },
  {
   "cell_type": "code",
   "execution_count": null,
   "metadata": {
    "id": "_4245HTDlY4t"
   },
   "outputs": [],
   "source": [
    "# Provide a dictionary to the rename method to rename any columns\n",
    "# The inplace flag determines whether to modify the original dataframe\n"
   ]
  },
  {
   "cell_type": "code",
   "execution_count": null,
   "metadata": {
    "id": "5bNEt3_6lY4u"
   },
   "outputs": [],
   "source": [
    "# Explore columns with column attributes and methods\n"
   ]
  },
  {
   "cell_type": "markdown",
   "metadata": {},
   "source": [
    "##  2. Exploring a new dataset"
   ]
  },
  {
   "cell_type": "code",
   "execution_count": null,
   "metadata": {
    "id": "k9bQSXB4lY4v"
   },
   "outputs": [],
   "source": [
    "\n",
    "# Import the products.csv dataset and explore the following questions:\n"
   ]
  },
  {
   "cell_type": "code",
   "execution_count": null,
   "metadata": {
    "id": "V0RUpcDslY4w"
   },
   "outputs": [],
   "source": [
    "# A. What are the columns and index: do they suggest any relationship to other tables?\n"
   ]
  },
  {
   "cell_type": "code",
   "execution_count": null,
   "metadata": {
    "id": "YsSatfYllY4x"
   },
   "outputs": [],
   "source": [
    "# B. How many rows of data are there?\n"
   ]
  },
  {
   "cell_type": "code",
   "execution_count": null,
   "metadata": {
    "id": "9Xhv6v-SlY4y"
   },
   "outputs": [],
   "source": [
    "# C. What are the types of each column?\n"
   ]
  },
  {
   "cell_type": "markdown",
   "metadata": {},
   "source": [
    "## 3. Boolean Filtering"
   ]
  },
  {
   "cell_type": "code",
   "execution_count": null,
   "metadata": {
    "id": "QBuX9BN1lY4z"
   },
   "outputs": [],
   "source": [
    "\n",
    "# Let's return to the orders dataset for the rest of the challenges\n",
    "# Use boolean filtering and DataFrame/DataSeries methods to solve the following challanges:"
   ]
  },
  {
   "cell_type": "code",
   "execution_count": null,
   "metadata": {
    "id": "pQtgQuUolY4z"
   },
   "outputs": [],
   "source": [
    "# A. What is the mean profit of orders where the ship_mode is \"Second Class\"\n"
   ]
  },
  {
   "cell_type": "code",
   "execution_count": null,
   "metadata": {
    "id": "r_6ebujGlY40"
   },
   "outputs": [],
   "source": [
    "# B. What was the busiest day?\n"
   ]
  },
  {
   "cell_type": "code",
   "execution_count": null,
   "metadata": {},
   "outputs": [],
   "source": [
    "# C. Which products were ordered on the busiest day?"
   ]
  },
  {
   "cell_type": "markdown",
   "metadata": {
    "id": "IkUW7v4nlY42"
   },
   "source": [
    "## 4. Sorting and Filtering"
   ]
  },
  {
   "cell_type": "code",
   "execution_count": null,
   "metadata": {
    "id": "KFxr4HOllY43"
   },
   "outputs": [],
   "source": [
    "# A. Who is the top customer?\n"
   ]
  },
  {
   "cell_type": "code",
   "execution_count": null,
   "metadata": {
    "id": "pCkhJ9K_lY45"
   },
   "outputs": [],
   "source": [
    "# B. What are the three top orders purchased by top customer?\n"
   ]
  },
  {
   "cell_type": "markdown",
   "metadata": {
    "id": "WKVp9qlGlY45"
   },
   "source": [
    "## Recap\n",
    "\n",
    "We covered a lot of ground! It's ok if this takes a while to gel.\n",
    "\n",
    "```python\n",
    "\n",
    "# basic DataFrame operations\n",
    "\n",
    "\n",
    "# selecting columns\n",
    "\n",
    "\n",
    "# renaming columns\n",
    "\n",
    "# notable columns operations\n",
    "\n",
    "# filtering\n",
    "\n",
    "# sorting\n",
    "\n",
    "```\n",
    "\n",
    "\n",
    "It's common to refer back to your own code *all the time.* Don't hesistate to reference this guide! 🐼\n",
    "\n",
    "\n"
   ]
  },
  {
   "cell_type": "code",
   "execution_count": null,
   "metadata": {},
   "outputs": [],
   "source": []
  }
 ],
 "metadata": {
  "colab": {
   "name": "11. Exploratory Data Analysis.ipynb",
   "provenance": []
  },
  "kernelspec": {
   "display_name": "default:Python",
   "language": "python",
   "name": "conda-env-default-py"
  },
  "language_info": {
   "codemirror_mode": {
    "name": "ipython",
    "version": 3
   },
   "file_extension": ".py",
   "mimetype": "text/x-python",
   "name": "python",
   "nbconvert_exporter": "python",
   "pygments_lexer": "ipython3",
   "version": "3.9.12"
  }
 },
 "nbformat": 4,
 "nbformat_minor": 4
}
