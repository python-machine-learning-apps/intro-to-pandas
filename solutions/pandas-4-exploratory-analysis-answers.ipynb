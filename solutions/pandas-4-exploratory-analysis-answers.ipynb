{
 "cells": [
  {
   "cell_type": "markdown",
   "metadata": {},
   "source": [
    "# Pandas EDA"
   ]
  },
  {
   "cell_type": "markdown",
   "metadata": {},
   "source": [
    "Note: If you haven't already done so, be sure to install pandas and matplotlib."
   ]
  },
  {
   "cell_type": "code",
   "execution_count": null,
   "metadata": {},
   "outputs": [],
   "source": [
    "conda install pandas -y\n",
    "conda install matplotlib -y"
   ]
  },
  {
   "cell_type": "markdown",
   "metadata": {},
   "source": [
    "## 1. EDA Demonstration"
   ]
  },
  {
   "cell_type": "code",
   "execution_count": 1,
   "metadata": {
    "id": "wK9w2-mDRgiK"
   },
   "outputs": [],
   "source": [
    "import pandas as pd"
   ]
  },
  {
   "cell_type": "code",
   "execution_count": 2,
   "metadata": {},
   "outputs": [],
   "source": [
    "# We will store the table csv data in a variable\n",
    "url = 'https://raw.githubusercontent.com/python-machine-learning-apps/intro-to-pandas/main/data/orders.csv'"
   ]
  },
  {
   "cell_type": "code",
   "execution_count": 3,
   "metadata": {
    "id": "DP87l91URgiP"
   },
   "outputs": [],
   "source": [
    "# Tabs are used as the separating character in this file\n",
    "orders = pd.read_csv(url)"
   ]
  },
  {
   "cell_type": "code",
   "execution_count": 4,
   "metadata": {
    "id": "JBRsbDZ-RgiQ"
   },
   "outputs": [
    {
     "data": {
      "text/html": [
       "<div>\n",
       "<style scoped>\n",
       "    .dataframe tbody tr th:only-of-type {\n",
       "        vertical-align: middle;\n",
       "    }\n",
       "\n",
       "    .dataframe tbody tr th {\n",
       "        vertical-align: top;\n",
       "    }\n",
       "\n",
       "    .dataframe thead th {\n",
       "        text-align: right;\n",
       "    }\n",
       "</style>\n",
       "<table border=\"1\" class=\"dataframe\">\n",
       "  <thead>\n",
       "    <tr style=\"text-align: right;\">\n",
       "      <th></th>\n",
       "      <th>order_id</th>\n",
       "      <th>order_date</th>\n",
       "      <th>ship_date</th>\n",
       "      <th>ship_mode</th>\n",
       "      <th>customer_id</th>\n",
       "      <th>product_id</th>\n",
       "      <th>sales</th>\n",
       "      <th>quantity</th>\n",
       "      <th>discount</th>\n",
       "      <th>profit</th>\n",
       "      <th>postal_code</th>\n",
       "      <th>region_id</th>\n",
       "    </tr>\n",
       "  </thead>\n",
       "  <tbody>\n",
       "    <tr>\n",
       "      <th>0</th>\n",
       "      <td>ES-2019-3581298</td>\n",
       "      <td>2019-10-05</td>\n",
       "      <td>2019-10-10</td>\n",
       "      <td>Standard Class</td>\n",
       "      <td>MW-18220</td>\n",
       "      <td>FUR-BO-10002318</td>\n",
       "      <td>1239.84</td>\n",
       "      <td>3</td>\n",
       "      <td>0.25</td>\n",
       "      <td>0.19</td>\n",
       "      <td>NaN</td>\n",
       "      <td>28804.0</td>\n",
       "    </tr>\n",
       "    <tr>\n",
       "      <th>1</th>\n",
       "      <td>CA-2018-2597967</td>\n",
       "      <td>2018-12-06</td>\n",
       "      <td>2018-12-08</td>\n",
       "      <td>Standard Class</td>\n",
       "      <td>TS-21430</td>\n",
       "      <td>FUR-FU-10003096</td>\n",
       "      <td>30.36</td>\n",
       "      <td>4</td>\n",
       "      <td>0.28</td>\n",
       "      <td>0.24</td>\n",
       "      <td>NaN</td>\n",
       "      <td>7530.0</td>\n",
       "    </tr>\n",
       "    <tr>\n",
       "      <th>2</th>\n",
       "      <td>ES-2017-410130</td>\n",
       "      <td>2017-04-20</td>\n",
       "      <td>2017-04-21</td>\n",
       "      <td>Second Class</td>\n",
       "      <td>ES-14080</td>\n",
       "      <td>OFF-BI-10004007</td>\n",
       "      <td>14.69</td>\n",
       "      <td>1</td>\n",
       "      <td>0.12</td>\n",
       "      <td>0.10</td>\n",
       "      <td>NaN</td>\n",
       "      <td>69959.0</td>\n",
       "    </tr>\n",
       "    <tr>\n",
       "      <th>3</th>\n",
       "      <td>IT-2019-1363430</td>\n",
       "      <td>2019-09-03</td>\n",
       "      <td>2019-09-04</td>\n",
       "      <td>Second Class</td>\n",
       "      <td>RP-19390</td>\n",
       "      <td>OFF-BI-10002040</td>\n",
       "      <td>15.40</td>\n",
       "      <td>1</td>\n",
       "      <td>0.15</td>\n",
       "      <td>0.10</td>\n",
       "      <td>NaN</td>\n",
       "      <td>4715.0</td>\n",
       "    </tr>\n",
       "    <tr>\n",
       "      <th>4</th>\n",
       "      <td>ID-2018-682568</td>\n",
       "      <td>2018-10-29</td>\n",
       "      <td>2018-10-29</td>\n",
       "      <td>Standard Class</td>\n",
       "      <td>PH-18790</td>\n",
       "      <td>TEC-CO-10000452</td>\n",
       "      <td>656.99</td>\n",
       "      <td>3</td>\n",
       "      <td>0.23</td>\n",
       "      <td>0.19</td>\n",
       "      <td>6824.0</td>\n",
       "      <td>5636.0</td>\n",
       "    </tr>\n",
       "  </tbody>\n",
       "</table>\n",
       "</div>"
      ],
      "text/plain": [
       "          order_id  order_date   ship_date       ship_mode customer_id  \\\n",
       "0  ES-2019-3581298  2019-10-05  2019-10-10  Standard Class    MW-18220   \n",
       "1  CA-2018-2597967  2018-12-06  2018-12-08  Standard Class    TS-21430   \n",
       "2   ES-2017-410130  2017-04-20  2017-04-21    Second Class    ES-14080   \n",
       "3  IT-2019-1363430  2019-09-03  2019-09-04    Second Class    RP-19390   \n",
       "4   ID-2018-682568  2018-10-29  2018-10-29  Standard Class    PH-18790   \n",
       "\n",
       "        product_id    sales  quantity  discount  profit  postal_code  \\\n",
       "0  FUR-BO-10002318  1239.84         3      0.25    0.19          NaN   \n",
       "1  FUR-FU-10003096    30.36         4      0.28    0.24          NaN   \n",
       "2  OFF-BI-10004007    14.69         1      0.12    0.10          NaN   \n",
       "3  OFF-BI-10002040    15.40         1      0.15    0.10          NaN   \n",
       "4  TEC-CO-10000452   656.99         3      0.23    0.19       6824.0   \n",
       "\n",
       "   region_id  \n",
       "0    28804.0  \n",
       "1     7530.0  \n",
       "2    69959.0  \n",
       "3     4715.0  \n",
       "4     5636.0  "
      ]
     },
     "execution_count": 4,
     "metadata": {},
     "output_type": "execute_result"
    }
   ],
   "source": [
    "# Use the head method to investigate the first row of data\n",
    "orders.head()"
   ]
  },
  {
   "cell_type": "code",
   "execution_count": 5,
   "metadata": {
    "id": "EU26bED1RgiQ"
   },
   "outputs": [
    {
     "data": {
      "text/html": [
       "<div>\n",
       "<style scoped>\n",
       "    .dataframe tbody tr th:only-of-type {\n",
       "        vertical-align: middle;\n",
       "    }\n",
       "\n",
       "    .dataframe tbody tr th {\n",
       "        vertical-align: top;\n",
       "    }\n",
       "\n",
       "    .dataframe thead th {\n",
       "        text-align: right;\n",
       "    }\n",
       "</style>\n",
       "<table border=\"1\" class=\"dataframe\">\n",
       "  <thead>\n",
       "    <tr style=\"text-align: right;\">\n",
       "      <th></th>\n",
       "      <th>DataType</th>\n",
       "    </tr>\n",
       "  </thead>\n",
       "  <tbody>\n",
       "    <tr>\n",
       "      <th>order_id</th>\n",
       "      <td>object</td>\n",
       "    </tr>\n",
       "    <tr>\n",
       "      <th>order_date</th>\n",
       "      <td>object</td>\n",
       "    </tr>\n",
       "    <tr>\n",
       "      <th>ship_date</th>\n",
       "      <td>object</td>\n",
       "    </tr>\n",
       "    <tr>\n",
       "      <th>ship_mode</th>\n",
       "      <td>object</td>\n",
       "    </tr>\n",
       "    <tr>\n",
       "      <th>customer_id</th>\n",
       "      <td>object</td>\n",
       "    </tr>\n",
       "    <tr>\n",
       "      <th>product_id</th>\n",
       "      <td>object</td>\n",
       "    </tr>\n",
       "    <tr>\n",
       "      <th>sales</th>\n",
       "      <td>float64</td>\n",
       "    </tr>\n",
       "    <tr>\n",
       "      <th>quantity</th>\n",
       "      <td>int64</td>\n",
       "    </tr>\n",
       "    <tr>\n",
       "      <th>discount</th>\n",
       "      <td>float64</td>\n",
       "    </tr>\n",
       "    <tr>\n",
       "      <th>profit</th>\n",
       "      <td>float64</td>\n",
       "    </tr>\n",
       "    <tr>\n",
       "      <th>postal_code</th>\n",
       "      <td>float64</td>\n",
       "    </tr>\n",
       "    <tr>\n",
       "      <th>region_id</th>\n",
       "      <td>float64</td>\n",
       "    </tr>\n",
       "  </tbody>\n",
       "</table>\n",
       "</div>"
      ],
      "text/plain": [
       "            DataType\n",
       "order_id      object\n",
       "order_date    object\n",
       "ship_date     object\n",
       "ship_mode     object\n",
       "customer_id   object\n",
       "product_id    object\n",
       "sales        float64\n",
       "quantity       int64\n",
       "discount     float64\n",
       "profit       float64\n",
       "postal_code  float64\n",
       "region_id    float64"
      ]
     },
     "execution_count": 5,
     "metadata": {},
     "output_type": "execute_result"
    }
   ],
   "source": [
    "# Create a dataframe to view the column names and data types\n",
    "pd.DataFrame(orders.dtypes, columns=[\"DataType\"])"
   ]
  },
  {
   "cell_type": "code",
   "execution_count": 6,
   "metadata": {
    "id": "7n7mylUkRgiR"
   },
   "outputs": [
    {
     "name": "stdout",
     "output_type": "stream",
     "text": [
      "(5000, 12)\n",
      "There are 5000 rows and 12 columns\n"
     ]
    }
   ],
   "source": [
    "# Use the shape attribute to determine the amount of rows and columns total\n",
    "print(orders.shape)\n",
    "print(f\"There are {orders.shape[0]} rows and {orders.shape[1]} columns\")"
   ]
  },
  {
   "cell_type": "code",
   "execution_count": 7,
   "metadata": {
    "id": "QWk-oYHPRgiR"
   },
   "outputs": [
    {
     "name": "stdout",
     "output_type": "stream",
     "text": [
      "Index(['order_id', 'order_date', 'ship_date', 'ship_mode', 'customer_id',\n",
      "       'product_id', 'sales', 'quantity', 'discount', 'profit', 'postal_code',\n",
      "       'region_id'],\n",
      "      dtype='object')\n",
      "None\n"
     ]
    }
   ],
   "source": [
    "# Use the .columns property to list out the column names\n",
    "# Use the .index.name property to identify the index\n",
    "print(orders.columns)\n",
    "print(orders.index.name)"
   ]
  },
  {
   "cell_type": "code",
   "execution_count": 8,
   "metadata": {
    "id": "-D8OVPNjRgiS"
   },
   "outputs": [
    {
     "data": {
      "text/html": [
       "<div>\n",
       "<style scoped>\n",
       "    .dataframe tbody tr th:only-of-type {\n",
       "        vertical-align: middle;\n",
       "    }\n",
       "\n",
       "    .dataframe tbody tr th {\n",
       "        vertical-align: top;\n",
       "    }\n",
       "\n",
       "    .dataframe thead th {\n",
       "        text-align: right;\n",
       "    }\n",
       "</style>\n",
       "<table border=\"1\" class=\"dataframe\">\n",
       "  <thead>\n",
       "    <tr style=\"text-align: right;\">\n",
       "      <th></th>\n",
       "      <th>order_id</th>\n",
       "      <th>ordered_on_date</th>\n",
       "      <th>ship_date</th>\n",
       "      <th>ship_mode</th>\n",
       "      <th>customer_id</th>\n",
       "      <th>product_id</th>\n",
       "      <th>sales</th>\n",
       "      <th>quantity</th>\n",
       "      <th>discount_amount</th>\n",
       "      <th>profit</th>\n",
       "      <th>postal_code</th>\n",
       "      <th>region_id</th>\n",
       "    </tr>\n",
       "  </thead>\n",
       "  <tbody>\n",
       "    <tr>\n",
       "      <th>0</th>\n",
       "      <td>ES-2019-3581298</td>\n",
       "      <td>2019-10-05</td>\n",
       "      <td>2019-10-10</td>\n",
       "      <td>Standard Class</td>\n",
       "      <td>MW-18220</td>\n",
       "      <td>FUR-BO-10002318</td>\n",
       "      <td>1239.84</td>\n",
       "      <td>3</td>\n",
       "      <td>0.25</td>\n",
       "      <td>0.19</td>\n",
       "      <td>NaN</td>\n",
       "      <td>28804.0</td>\n",
       "    </tr>\n",
       "    <tr>\n",
       "      <th>1</th>\n",
       "      <td>CA-2018-2597967</td>\n",
       "      <td>2018-12-06</td>\n",
       "      <td>2018-12-08</td>\n",
       "      <td>Standard Class</td>\n",
       "      <td>TS-21430</td>\n",
       "      <td>FUR-FU-10003096</td>\n",
       "      <td>30.36</td>\n",
       "      <td>4</td>\n",
       "      <td>0.28</td>\n",
       "      <td>0.24</td>\n",
       "      <td>NaN</td>\n",
       "      <td>7530.0</td>\n",
       "    </tr>\n",
       "    <tr>\n",
       "      <th>2</th>\n",
       "      <td>ES-2017-410130</td>\n",
       "      <td>2017-04-20</td>\n",
       "      <td>2017-04-21</td>\n",
       "      <td>Second Class</td>\n",
       "      <td>ES-14080</td>\n",
       "      <td>OFF-BI-10004007</td>\n",
       "      <td>14.69</td>\n",
       "      <td>1</td>\n",
       "      <td>0.12</td>\n",
       "      <td>0.10</td>\n",
       "      <td>NaN</td>\n",
       "      <td>69959.0</td>\n",
       "    </tr>\n",
       "    <tr>\n",
       "      <th>3</th>\n",
       "      <td>IT-2019-1363430</td>\n",
       "      <td>2019-09-03</td>\n",
       "      <td>2019-09-04</td>\n",
       "      <td>Second Class</td>\n",
       "      <td>RP-19390</td>\n",
       "      <td>OFF-BI-10002040</td>\n",
       "      <td>15.40</td>\n",
       "      <td>1</td>\n",
       "      <td>0.15</td>\n",
       "      <td>0.10</td>\n",
       "      <td>NaN</td>\n",
       "      <td>4715.0</td>\n",
       "    </tr>\n",
       "    <tr>\n",
       "      <th>4</th>\n",
       "      <td>ID-2018-682568</td>\n",
       "      <td>2018-10-29</td>\n",
       "      <td>2018-10-29</td>\n",
       "      <td>Standard Class</td>\n",
       "      <td>PH-18790</td>\n",
       "      <td>TEC-CO-10000452</td>\n",
       "      <td>656.99</td>\n",
       "      <td>3</td>\n",
       "      <td>0.23</td>\n",
       "      <td>0.19</td>\n",
       "      <td>6824.0</td>\n",
       "      <td>5636.0</td>\n",
       "    </tr>\n",
       "    <tr>\n",
       "      <th>...</th>\n",
       "      <td>...</td>\n",
       "      <td>...</td>\n",
       "      <td>...</td>\n",
       "      <td>...</td>\n",
       "      <td>...</td>\n",
       "      <td>...</td>\n",
       "      <td>...</td>\n",
       "      <td>...</td>\n",
       "      <td>...</td>\n",
       "      <td>...</td>\n",
       "      <td>...</td>\n",
       "      <td>...</td>\n",
       "    </tr>\n",
       "    <tr>\n",
       "      <th>4995</th>\n",
       "      <td>IN-2018-63053</td>\n",
       "      <td>2018-12-14</td>\n",
       "      <td>2018-12-16</td>\n",
       "      <td>Same Day</td>\n",
       "      <td>KM-16660</td>\n",
       "      <td>OFF-LA-10003644</td>\n",
       "      <td>54.39</td>\n",
       "      <td>7</td>\n",
       "      <td>0.23</td>\n",
       "      <td>0.19</td>\n",
       "      <td>NaN</td>\n",
       "      <td>1410.0</td>\n",
       "    </tr>\n",
       "    <tr>\n",
       "      <th>4996</th>\n",
       "      <td>MX-2019-4981245</td>\n",
       "      <td>2019-11-28</td>\n",
       "      <td>2019-12-01</td>\n",
       "      <td>Standard Class</td>\n",
       "      <td>SC-20725</td>\n",
       "      <td>OFF-AR-10003680</td>\n",
       "      <td>19.74</td>\n",
       "      <td>1</td>\n",
       "      <td>0.15</td>\n",
       "      <td>0.10</td>\n",
       "      <td>78415.0</td>\n",
       "      <td>1488.0</td>\n",
       "    </tr>\n",
       "    <tr>\n",
       "      <th>4997</th>\n",
       "      <td>MZ-2019-4195017</td>\n",
       "      <td>2019-06-22</td>\n",
       "      <td>2019-06-26</td>\n",
       "      <td>Same Day</td>\n",
       "      <td>JW-5220</td>\n",
       "      <td>OFF-OIC-10000121</td>\n",
       "      <td>27.72</td>\n",
       "      <td>2</td>\n",
       "      <td>0.05</td>\n",
       "      <td>0.00</td>\n",
       "      <td>80027.0</td>\n",
       "      <td>4553.0</td>\n",
       "    </tr>\n",
       "    <tr>\n",
       "      <th>4998</th>\n",
       "      <td>NI-2018-1509129</td>\n",
       "      <td>2018-08-19</td>\n",
       "      <td>2018-08-22</td>\n",
       "      <td>Second Class</td>\n",
       "      <td>MC-7425</td>\n",
       "      <td>TEC-BEL-10003985</td>\n",
       "      <td>621.50</td>\n",
       "      <td>8</td>\n",
       "      <td>0.03</td>\n",
       "      <td>0.00</td>\n",
       "      <td>NaN</td>\n",
       "      <td>19848.0</td>\n",
       "    </tr>\n",
       "    <tr>\n",
       "      <th>4999</th>\n",
       "      <td>CA-2017-3999191</td>\n",
       "      <td>2017-11-07</td>\n",
       "      <td>2017-11-12</td>\n",
       "      <td>Standard Class</td>\n",
       "      <td>MS-17830</td>\n",
       "      <td>FUR-FU-10002759</td>\n",
       "      <td>79.92</td>\n",
       "      <td>4</td>\n",
       "      <td>0.27</td>\n",
       "      <td>0.24</td>\n",
       "      <td>NaN</td>\n",
       "      <td>5003.0</td>\n",
       "    </tr>\n",
       "  </tbody>\n",
       "</table>\n",
       "<p>5000 rows × 12 columns</p>\n",
       "</div>"
      ],
      "text/plain": [
       "             order_id ordered_on_date   ship_date       ship_mode customer_id  \\\n",
       "0     ES-2019-3581298      2019-10-05  2019-10-10  Standard Class    MW-18220   \n",
       "1     CA-2018-2597967      2018-12-06  2018-12-08  Standard Class    TS-21430   \n",
       "2      ES-2017-410130      2017-04-20  2017-04-21    Second Class    ES-14080   \n",
       "3     IT-2019-1363430      2019-09-03  2019-09-04    Second Class    RP-19390   \n",
       "4      ID-2018-682568      2018-10-29  2018-10-29  Standard Class    PH-18790   \n",
       "...               ...             ...         ...             ...         ...   \n",
       "4995    IN-2018-63053      2018-12-14  2018-12-16        Same Day    KM-16660   \n",
       "4996  MX-2019-4981245      2019-11-28  2019-12-01  Standard Class    SC-20725   \n",
       "4997  MZ-2019-4195017      2019-06-22  2019-06-26        Same Day     JW-5220   \n",
       "4998  NI-2018-1509129      2018-08-19  2018-08-22    Second Class     MC-7425   \n",
       "4999  CA-2017-3999191      2017-11-07  2017-11-12  Standard Class    MS-17830   \n",
       "\n",
       "            product_id    sales  quantity  discount_amount  profit  \\\n",
       "0      FUR-BO-10002318  1239.84         3             0.25    0.19   \n",
       "1      FUR-FU-10003096    30.36         4             0.28    0.24   \n",
       "2      OFF-BI-10004007    14.69         1             0.12    0.10   \n",
       "3      OFF-BI-10002040    15.40         1             0.15    0.10   \n",
       "4      TEC-CO-10000452   656.99         3             0.23    0.19   \n",
       "...                ...      ...       ...              ...     ...   \n",
       "4995   OFF-LA-10003644    54.39         7             0.23    0.19   \n",
       "4996   OFF-AR-10003680    19.74         1             0.15    0.10   \n",
       "4997  OFF-OIC-10000121    27.72         2             0.05    0.00   \n",
       "4998  TEC-BEL-10003985   621.50         8             0.03    0.00   \n",
       "4999   FUR-FU-10002759    79.92         4             0.27    0.24   \n",
       "\n",
       "      postal_code  region_id  \n",
       "0             NaN    28804.0  \n",
       "1             NaN     7530.0  \n",
       "2             NaN    69959.0  \n",
       "3             NaN     4715.0  \n",
       "4          6824.0     5636.0  \n",
       "...           ...        ...  \n",
       "4995          NaN     1410.0  \n",
       "4996      78415.0     1488.0  \n",
       "4997      80027.0     4553.0  \n",
       "4998          NaN    19848.0  \n",
       "4999          NaN     5003.0  \n",
       "\n",
       "[5000 rows x 12 columns]"
      ]
     },
     "execution_count": 8,
     "metadata": {},
     "output_type": "execute_result"
    }
   ],
   "source": [
    "# Provide a dictionary to the rename method to rename any columns\n",
    "# The inplace flag determines whether to modify the original dataframe\n",
    "orders.rename(columns={\"discount\": \"discount_amount\",\n",
    "                       \"order_date\": \"ordered_on_date\"},\n",
    "              inplace=False)"
   ]
  },
  {
   "cell_type": "code",
   "execution_count": 9,
   "metadata": {},
   "outputs": [
    {
     "data": {
      "text/html": [
       "<div>\n",
       "<style scoped>\n",
       "    .dataframe tbody tr th:only-of-type {\n",
       "        vertical-align: middle;\n",
       "    }\n",
       "\n",
       "    .dataframe tbody tr th {\n",
       "        vertical-align: top;\n",
       "    }\n",
       "\n",
       "    .dataframe thead th {\n",
       "        text-align: right;\n",
       "    }\n",
       "</style>\n",
       "<table border=\"1\" class=\"dataframe\">\n",
       "  <thead>\n",
       "    <tr style=\"text-align: right;\">\n",
       "      <th></th>\n",
       "      <th>order_id</th>\n",
       "      <th>order_date</th>\n",
       "      <th>ship_date</th>\n",
       "      <th>ship_mode</th>\n",
       "      <th>customer_id</th>\n",
       "      <th>product_id</th>\n",
       "      <th>sales</th>\n",
       "      <th>quantity</th>\n",
       "      <th>discount</th>\n",
       "      <th>profit</th>\n",
       "      <th>postal_code</th>\n",
       "      <th>region_id</th>\n",
       "    </tr>\n",
       "  </thead>\n",
       "  <tbody>\n",
       "    <tr>\n",
       "      <th>0</th>\n",
       "      <td>ES-2019-3581298</td>\n",
       "      <td>2019-10-05</td>\n",
       "      <td>2019-10-10</td>\n",
       "      <td>Standard Class</td>\n",
       "      <td>MW-18220</td>\n",
       "      <td>FUR-BO-10002318</td>\n",
       "      <td>1239.84</td>\n",
       "      <td>3</td>\n",
       "      <td>0.25</td>\n",
       "      <td>0.19</td>\n",
       "      <td>NaN</td>\n",
       "      <td>28804.0</td>\n",
       "    </tr>\n",
       "    <tr>\n",
       "      <th>1</th>\n",
       "      <td>CA-2018-2597967</td>\n",
       "      <td>2018-12-06</td>\n",
       "      <td>2018-12-08</td>\n",
       "      <td>Standard Class</td>\n",
       "      <td>TS-21430</td>\n",
       "      <td>FUR-FU-10003096</td>\n",
       "      <td>30.36</td>\n",
       "      <td>4</td>\n",
       "      <td>0.28</td>\n",
       "      <td>0.24</td>\n",
       "      <td>NaN</td>\n",
       "      <td>7530.0</td>\n",
       "    </tr>\n",
       "    <tr>\n",
       "      <th>2</th>\n",
       "      <td>ES-2017-410130</td>\n",
       "      <td>2017-04-20</td>\n",
       "      <td>2017-04-21</td>\n",
       "      <td>Second Class</td>\n",
       "      <td>ES-14080</td>\n",
       "      <td>OFF-BI-10004007</td>\n",
       "      <td>14.69</td>\n",
       "      <td>1</td>\n",
       "      <td>0.12</td>\n",
       "      <td>0.10</td>\n",
       "      <td>NaN</td>\n",
       "      <td>69959.0</td>\n",
       "    </tr>\n",
       "    <tr>\n",
       "      <th>3</th>\n",
       "      <td>IT-2019-1363430</td>\n",
       "      <td>2019-09-03</td>\n",
       "      <td>2019-09-04</td>\n",
       "      <td>Second Class</td>\n",
       "      <td>RP-19390</td>\n",
       "      <td>OFF-BI-10002040</td>\n",
       "      <td>15.40</td>\n",
       "      <td>1</td>\n",
       "      <td>0.15</td>\n",
       "      <td>0.10</td>\n",
       "      <td>NaN</td>\n",
       "      <td>4715.0</td>\n",
       "    </tr>\n",
       "    <tr>\n",
       "      <th>4</th>\n",
       "      <td>ID-2018-682568</td>\n",
       "      <td>2018-10-29</td>\n",
       "      <td>2018-10-29</td>\n",
       "      <td>Standard Class</td>\n",
       "      <td>PH-18790</td>\n",
       "      <td>TEC-CO-10000452</td>\n",
       "      <td>656.99</td>\n",
       "      <td>3</td>\n",
       "      <td>0.23</td>\n",
       "      <td>0.19</td>\n",
       "      <td>6824.0</td>\n",
       "      <td>5636.0</td>\n",
       "    </tr>\n",
       "  </tbody>\n",
       "</table>\n",
       "</div>"
      ],
      "text/plain": [
       "          order_id  order_date   ship_date       ship_mode customer_id  \\\n",
       "0  ES-2019-3581298  2019-10-05  2019-10-10  Standard Class    MW-18220   \n",
       "1  CA-2018-2597967  2018-12-06  2018-12-08  Standard Class    TS-21430   \n",
       "2   ES-2017-410130  2017-04-20  2017-04-21    Second Class    ES-14080   \n",
       "3  IT-2019-1363430  2019-09-03  2019-09-04    Second Class    RP-19390   \n",
       "4   ID-2018-682568  2018-10-29  2018-10-29  Standard Class    PH-18790   \n",
       "\n",
       "        product_id    sales  quantity  discount  profit  postal_code  \\\n",
       "0  FUR-BO-10002318  1239.84         3      0.25    0.19          NaN   \n",
       "1  FUR-FU-10003096    30.36         4      0.28    0.24          NaN   \n",
       "2  OFF-BI-10004007    14.69         1      0.12    0.10          NaN   \n",
       "3  OFF-BI-10002040    15.40         1      0.15    0.10          NaN   \n",
       "4  TEC-CO-10000452   656.99         3      0.23    0.19       6824.0   \n",
       "\n",
       "   region_id  \n",
       "0    28804.0  \n",
       "1     7530.0  \n",
       "2    69959.0  \n",
       "3     4715.0  \n",
       "4     5636.0  "
      ]
     },
     "execution_count": 9,
     "metadata": {},
     "output_type": "execute_result"
    }
   ],
   "source": [
    "orders.head()"
   ]
  },
  {
   "cell_type": "code",
   "execution_count": 10,
   "metadata": {
    "id": "LXvFmnXzRgiS"
   },
   "outputs": [
    {
     "data": {
      "text/plain": [
       "count    5000.000000\n",
       "mean        1.978328\n",
       "std        38.126910\n",
       "min      -734.530000\n",
       "25%         0.100000\n",
       "50%         0.200000\n",
       "75%         0.290000\n",
       "max      1537.830000\n",
       "Name: profit, dtype: float64"
      ]
     },
     "execution_count": 10,
     "metadata": {},
     "output_type": "execute_result"
    }
   ],
   "source": [
    "# Explore columns with column attributes and methods\n",
    "# orders['postal_code'].value_counts()\n",
    "# len(orders['postal_code'].unique())\n",
    "# orders['postal_code'].nunique()\n",
    "orders['profit'].describe()"
   ]
  },
  {
   "cell_type": "markdown",
   "metadata": {},
   "source": [
    "## 2. Exploring a new dataset"
   ]
  },
  {
   "cell_type": "code",
   "execution_count": 12,
   "metadata": {
    "id": "TW9AkUYoRgiT"
   },
   "outputs": [],
   "source": [
    "# Import the products.csv dataset and explore the following questions:\n",
    "products = pd.read_csv('https://raw.githubusercontent.com/python-machine-learning-apps/intro-to-pandas/main/data/products.csv')"
   ]
  },
  {
   "cell_type": "code",
   "execution_count": 13,
   "metadata": {
    "id": "TJ62RXK-RgiU"
   },
   "outputs": [
    {
     "data": {
      "text/plain": [
       "Index(['product_id', 'category', 'sub_category', 'product_name',\n",
       "       'product_cost_to_consumer'],\n",
       "      dtype='object')"
      ]
     },
     "execution_count": 13,
     "metadata": {},
     "output_type": "execute_result"
    }
   ],
   "source": [
    "# A. What are the columns and index: do they suggest any relationship to other tables?\n",
    "products.columns"
   ]
  },
  {
   "cell_type": "code",
   "execution_count": 14,
   "metadata": {
    "id": "Ks-3uiyZRgiV"
   },
   "outputs": [
    {
     "data": {
      "text/plain": [
       "10292"
      ]
     },
     "execution_count": 14,
     "metadata": {},
     "output_type": "execute_result"
    }
   ],
   "source": [
    "# B. How many rows of data are there?\n",
    "products.shape[0]\n",
    "len(products)"
   ]
  },
  {
   "cell_type": "code",
   "execution_count": 15,
   "metadata": {
    "id": "r686W75CRgiV"
   },
   "outputs": [
    {
     "data": {
      "text/html": [
       "<div>\n",
       "<style scoped>\n",
       "    .dataframe tbody tr th:only-of-type {\n",
       "        vertical-align: middle;\n",
       "    }\n",
       "\n",
       "    .dataframe tbody tr th {\n",
       "        vertical-align: top;\n",
       "    }\n",
       "\n",
       "    .dataframe thead th {\n",
       "        text-align: right;\n",
       "    }\n",
       "</style>\n",
       "<table border=\"1\" class=\"dataframe\">\n",
       "  <thead>\n",
       "    <tr style=\"text-align: right;\">\n",
       "      <th></th>\n",
       "      <th>DataType</th>\n",
       "    </tr>\n",
       "  </thead>\n",
       "  <tbody>\n",
       "    <tr>\n",
       "      <th>product_id</th>\n",
       "      <td>object</td>\n",
       "    </tr>\n",
       "    <tr>\n",
       "      <th>category</th>\n",
       "      <td>object</td>\n",
       "    </tr>\n",
       "    <tr>\n",
       "      <th>sub_category</th>\n",
       "      <td>object</td>\n",
       "    </tr>\n",
       "    <tr>\n",
       "      <th>product_name</th>\n",
       "      <td>object</td>\n",
       "    </tr>\n",
       "    <tr>\n",
       "      <th>product_cost_to_consumer</th>\n",
       "      <td>float64</td>\n",
       "    </tr>\n",
       "  </tbody>\n",
       "</table>\n",
       "</div>"
      ],
      "text/plain": [
       "                         DataType\n",
       "product_id                 object\n",
       "category                   object\n",
       "sub_category               object\n",
       "product_name               object\n",
       "product_cost_to_consumer  float64"
      ]
     },
     "execution_count": 15,
     "metadata": {},
     "output_type": "execute_result"
    }
   ],
   "source": [
    "# C. What are the types of each column?\n",
    "pd.DataFrame(products.dtypes, columns=[\"DataType\"])"
   ]
  },
  {
   "cell_type": "code",
   "execution_count": 16,
   "metadata": {},
   "outputs": [
    {
     "data": {
      "text/html": [
       "<div>\n",
       "<style scoped>\n",
       "    .dataframe tbody tr th:only-of-type {\n",
       "        vertical-align: middle;\n",
       "    }\n",
       "\n",
       "    .dataframe tbody tr th {\n",
       "        vertical-align: top;\n",
       "    }\n",
       "\n",
       "    .dataframe thead th {\n",
       "        text-align: right;\n",
       "    }\n",
       "</style>\n",
       "<table border=\"1\" class=\"dataframe\">\n",
       "  <thead>\n",
       "    <tr style=\"text-align: right;\">\n",
       "      <th></th>\n",
       "      <th>product_id</th>\n",
       "      <th>category</th>\n",
       "      <th>sub_category</th>\n",
       "      <th>product_name</th>\n",
       "      <th>product_cost_to_consumer</th>\n",
       "    </tr>\n",
       "  </thead>\n",
       "  <tbody>\n",
       "    <tr>\n",
       "      <th>0</th>\n",
       "      <td>FUR-ADV-10000002</td>\n",
       "      <td>Furniture</td>\n",
       "      <td>Furnishings</td>\n",
       "      <td>Advantus Photo Frame, Duo Pack</td>\n",
       "      <td>53.04</td>\n",
       "    </tr>\n",
       "    <tr>\n",
       "      <th>1</th>\n",
       "      <td>FUR-ADV-10000108</td>\n",
       "      <td>Furniture</td>\n",
       "      <td>Furnishings</td>\n",
       "      <td>Advantus Clock, Erganomic</td>\n",
       "      <td>50.01</td>\n",
       "    </tr>\n",
       "  </tbody>\n",
       "</table>\n",
       "</div>"
      ],
      "text/plain": [
       "         product_id   category sub_category                    product_name  \\\n",
       "0  FUR-ADV-10000002  Furniture  Furnishings  Advantus Photo Frame, Duo Pack   \n",
       "1  FUR-ADV-10000108  Furniture  Furnishings       Advantus Clock, Erganomic   \n",
       "\n",
       "   product_cost_to_consumer  \n",
       "0                     53.04  \n",
       "1                     50.01  "
      ]
     },
     "execution_count": 16,
     "metadata": {},
     "output_type": "execute_result"
    }
   ],
   "source": [
    "products.head(2)"
   ]
  },
  {
   "cell_type": "markdown",
   "metadata": {},
   "source": [
    "## 3. Boolean Filtering"
   ]
  },
  {
   "cell_type": "code",
   "execution_count": 17,
   "metadata": {
    "id": "VCu6-axzRgiW"
   },
   "outputs": [],
   "source": [
    "# Let's return to the orders dataset for the rest of the challenges\n",
    "# Use boolean filtering and DataFrame/DataSeries methods to solve the following challanges:"
   ]
  },
  {
   "cell_type": "code",
   "execution_count": 18,
   "metadata": {
    "id": "2iCzMIb7RgiW"
   },
   "outputs": [
    {
     "data": {
      "text/plain": [
       "0.7557168894289187"
      ]
     },
     "execution_count": 18,
     "metadata": {},
     "output_type": "execute_result"
    }
   ],
   "source": [
    "# A. What is the mean profit of orders where the ship_mode is \"Second Class\"\n",
    "orders[orders[\"ship_mode\"] == \"Second Class\"][\"profit\"].mean()"
   ]
  },
  {
   "cell_type": "code",
   "execution_count": 19,
   "metadata": {},
   "outputs": [
    {
     "data": {
      "text/plain": [
       "count    1646.000000\n",
       "mean        0.755717\n",
       "std        32.313797\n",
       "min      -734.530000\n",
       "25%         0.100000\n",
       "50%         0.190000\n",
       "75%         0.290000\n",
       "max       992.160000\n",
       "Name: profit, dtype: float64"
      ]
     },
     "execution_count": 19,
     "metadata": {},
     "output_type": "execute_result"
    }
   ],
   "source": [
    "orders[orders[\"ship_mode\"] == \"Second Class\"][\"profit\"].describe()"
   ]
  },
  {
   "cell_type": "code",
   "execution_count": 20,
   "metadata": {},
   "outputs": [
    {
     "data": {
      "text/plain": [
       "2019-11-18    20\n",
       "2019-10-29    19\n",
       "2019-12-06    19\n",
       "2019-09-25    18\n",
       "2019-12-03    18\n",
       "Name: order_date, dtype: int64"
      ]
     },
     "execution_count": 20,
     "metadata": {},
     "output_type": "execute_result"
    }
   ],
   "source": [
    "# B. What was the busiest day?\n",
    "orders[\"order_date\"].value_counts().head()"
   ]
  },
  {
   "cell_type": "code",
   "execution_count": 21,
   "metadata": {},
   "outputs": [
    {
     "data": {
      "text/plain": [
       "0       False\n",
       "1       False\n",
       "2       False\n",
       "3       False\n",
       "4       False\n",
       "        ...  \n",
       "4995    False\n",
       "4996    False\n",
       "4997    False\n",
       "4998    False\n",
       "4999    False\n",
       "Name: order_date, Length: 5000, dtype: bool"
      ]
     },
     "execution_count": 21,
     "metadata": {},
     "output_type": "execute_result"
    }
   ],
   "source": [
    "orders[\"order_date\"]=='2019-11-18'"
   ]
  },
  {
   "cell_type": "code",
   "execution_count": 22,
   "metadata": {},
   "outputs": [
    {
     "data": {
      "text/plain": [
       "405      OFF-BI-10002424\n",
       "579      OFF-EN-10003601\n",
       "977      OFF-BI-10003774\n",
       "1035     TEC-AC-10001987\n",
       "1271    OFF-AVE-10000432\n",
       "1677     OFF-BI-10001670\n",
       "2500     FUR-CH-10002228\n",
       "2653     FUR-BO-10003965\n",
       "2827     TEC-MA-10004125\n",
       "2980     OFF-BI-10003616\n",
       "3231     OFF-SU-10001877\n",
       "3235     OFF-EN-10003601\n",
       "3308     TEC-AC-10002167\n",
       "3489     OFF-EN-10001993\n",
       "3548     FUR-CH-10003817\n",
       "4072    OFF-HAM-10003872\n",
       "4264    FUR-SAF-10000565\n",
       "4488    FUR-NOV-10000847\n",
       "4552     OFF-EN-10003435\n",
       "4748     OFF-ST-10003547\n",
       "Name: product_id, dtype: object"
      ]
     },
     "execution_count": 22,
     "metadata": {},
     "output_type": "execute_result"
    }
   ],
   "source": [
    "# B. What was the busiest day?\n",
    "orders[orders[\"order_date\"]=='2019-11-18'][\"product_id\"]"
   ]
  },
  {
   "cell_type": "code",
   "execution_count": 23,
   "metadata": {},
   "outputs": [
    {
     "data": {
      "text/plain": [
       "'2019-11-18'"
      ]
     },
     "execution_count": 23,
     "metadata": {},
     "output_type": "execute_result"
    }
   ],
   "source": [
    "# capture the top date as a variable\n",
    "top_date = orders[\"order_date\"].value_counts().head(1).index[0]\n",
    "top_date "
   ]
  },
  {
   "cell_type": "code",
   "execution_count": 24,
   "metadata": {},
   "outputs": [
    {
     "name": "stdout",
     "output_type": "stream",
     "text": [
      "2019-10-29\n"
     ]
    }
   ],
   "source": [
    "# capture the top date as a variable (another way to do this)\n",
    "top_date = orders.groupby(\"order_date\")[\"product_id\"].nunique().sort_values(ascending=False).head().index[0]\n",
    "print(top_date)"
   ]
  },
  {
   "cell_type": "code",
   "execution_count": 25,
   "metadata": {
    "id": "_Zgl0aZXRgiW"
   },
   "outputs": [
    {
     "data": {
      "text/plain": [
       "TEC-BEL-10002516    1\n",
       "OFF-FA-10000563     1\n",
       "OFF-BIN-10003089    1\n",
       "OFF-AR-10003962     1\n",
       "TEC-MA-10002712     1\n",
       "OFF-LA-10003283     1\n",
       "FUR-FU-10003608     1\n",
       "TEC-PH-10004223     1\n",
       "TEC-PH-10002517     1\n",
       "OFF-LA-10000244     1\n",
       "OFF-AR-10002454     1\n",
       "FUR-BO-10004340     1\n",
       "TEC-PH-10003177     1\n",
       "FUR-CH-10004095     1\n",
       "FUR-CH-10000852     1\n",
       "FUR-BO-10004459     1\n",
       "OFF-PA-10002659     1\n",
       "TEC-MA-10003625     1\n",
       "OFF-PA-10001722     1\n",
       "Name: product_id, dtype: int64"
      ]
     },
     "execution_count": 25,
     "metadata": {},
     "output_type": "execute_result"
    }
   ],
   "source": [
    "# C. Which products were ordered on the busiest day?\n",
    "orders[orders[\"order_date\"]==top_date][\"product_id\"].value_counts()"
   ]
  },
  {
   "cell_type": "markdown",
   "metadata": {
    "id": "i_AppIjARgiX"
   },
   "source": [
    "## 4. Sorting and Filtering"
   ]
  },
  {
   "cell_type": "code",
   "execution_count": 26,
   "metadata": {},
   "outputs": [
    {
     "data": {
      "text/plain": [
       "MC-17635    15\n",
       "SW-20755    14\n",
       "RB-19795    14\n",
       "PG-18820    13\n",
       "PO-18850    13\n",
       "Name: customer_id, dtype: int64"
      ]
     },
     "execution_count": 26,
     "metadata": {},
     "output_type": "execute_result"
    }
   ],
   "source": [
    "# A. Who is the top customer?\n",
    "orders[\"customer_id\"].value_counts().head()"
   ]
  },
  {
   "cell_type": "code",
   "execution_count": 27,
   "metadata": {},
   "outputs": [
    {
     "name": "stdout",
     "output_type": "stream",
     "text": [
      "MC-17635\n"
     ]
    }
   ],
   "source": [
    "# save that customer as a variable\n",
    "top_customer = orders[\"customer_id\"].value_counts().head().index[0]\n",
    "print(top_customer)"
   ]
  },
  {
   "cell_type": "code",
   "execution_count": 28,
   "metadata": {
    "id": "FkTsBvLhRgiX"
   },
   "outputs": [
    {
     "data": {
      "text/html": [
       "<div>\n",
       "<style scoped>\n",
       "    .dataframe tbody tr th:only-of-type {\n",
       "        vertical-align: middle;\n",
       "    }\n",
       "\n",
       "    .dataframe tbody tr th {\n",
       "        vertical-align: top;\n",
       "    }\n",
       "\n",
       "    .dataframe thead th {\n",
       "        text-align: right;\n",
       "    }\n",
       "</style>\n",
       "<table border=\"1\" class=\"dataframe\">\n",
       "  <thead>\n",
       "    <tr style=\"text-align: right;\">\n",
       "      <th></th>\n",
       "      <th>order_id</th>\n",
       "      <th>order_date</th>\n",
       "      <th>ship_date</th>\n",
       "      <th>ship_mode</th>\n",
       "      <th>customer_id</th>\n",
       "      <th>product_id</th>\n",
       "      <th>sales</th>\n",
       "      <th>quantity</th>\n",
       "      <th>discount</th>\n",
       "      <th>profit</th>\n",
       "      <th>postal_code</th>\n",
       "      <th>region_id</th>\n",
       "    </tr>\n",
       "  </thead>\n",
       "  <tbody>\n",
       "    <tr>\n",
       "      <th>279</th>\n",
       "      <td>IN-2018-35024</td>\n",
       "      <td>2018-05-13</td>\n",
       "      <td>2018-05-13</td>\n",
       "      <td>Same Day</td>\n",
       "      <td>MC-17635</td>\n",
       "      <td>OFF-BI-10000340</td>\n",
       "      <td>96.6</td>\n",
       "      <td>2</td>\n",
       "      <td>0.30</td>\n",
       "      <td>9.66</td>\n",
       "      <td>NaN</td>\n",
       "      <td>4792.0</td>\n",
       "    </tr>\n",
       "    <tr>\n",
       "      <th>4539</th>\n",
       "      <td>IN-2019-3396974</td>\n",
       "      <td>2019-12-26</td>\n",
       "      <td>2019-12-29</td>\n",
       "      <td>Standard Class</td>\n",
       "      <td>MC-17635</td>\n",
       "      <td>FUR-BO-10002204</td>\n",
       "      <td>338.7</td>\n",
       "      <td>2</td>\n",
       "      <td>0.55</td>\n",
       "      <td>0.47</td>\n",
       "      <td>NaN</td>\n",
       "      <td>7494.0</td>\n",
       "    </tr>\n",
       "    <tr>\n",
       "      <th>161</th>\n",
       "      <td>MX-2017-607445</td>\n",
       "      <td>2017-09-06</td>\n",
       "      <td>2017-09-11</td>\n",
       "      <td>Standard Class</td>\n",
       "      <td>MC-17635</td>\n",
       "      <td>FUR-BO-10002214</td>\n",
       "      <td>451.6</td>\n",
       "      <td>4</td>\n",
       "      <td>0.42</td>\n",
       "      <td>0.39</td>\n",
       "      <td>41042.0</td>\n",
       "      <td>3688.0</td>\n",
       "    </tr>\n",
       "  </tbody>\n",
       "</table>\n",
       "</div>"
      ],
      "text/plain": [
       "             order_id  order_date   ship_date       ship_mode customer_id  \\\n",
       "279     IN-2018-35024  2018-05-13  2018-05-13        Same Day    MC-17635   \n",
       "4539  IN-2019-3396974  2019-12-26  2019-12-29  Standard Class    MC-17635   \n",
       "161    MX-2017-607445  2017-09-06  2017-09-11  Standard Class    MC-17635   \n",
       "\n",
       "           product_id  sales  quantity  discount  profit  postal_code  \\\n",
       "279   OFF-BI-10000340   96.6         2      0.30    9.66          NaN   \n",
       "4539  FUR-BO-10002204  338.7         2      0.55    0.47          NaN   \n",
       "161   FUR-BO-10002214  451.6         4      0.42    0.39      41042.0   \n",
       "\n",
       "      region_id  \n",
       "279      4792.0  \n",
       "4539     7494.0  \n",
       "161      3688.0  "
      ]
     },
     "execution_count": 28,
     "metadata": {},
     "output_type": "execute_result"
    }
   ],
   "source": [
    "# B. What are the three top orders purchased by top customer?\n",
    "orders[orders['customer_id'] == top_customer].sort_values(by=\"profit\", ascending=False).head(3)"
   ]
  },
  {
   "cell_type": "markdown",
   "metadata": {
    "id": "cOn1IzvkRgiY"
   },
   "source": [
    "## Recap\n",
    "\n",
    "We covered a lot of ground! It's ok if this takes a while to gel.\n",
    "\n",
    "```python\n",
    "\n",
    "# basic DataFrame operations\n",
    "df.head()\n",
    "df.tail()\n",
    "df.shape\n",
    "df.columns\n",
    "df.Index\n",
    "\n",
    "# selecting columns\n",
    "df.column_name\n",
    "df['column_name']\n",
    "\n",
    "# renaming columns\n",
    "df.rename({'old_name':'new_name'}, inplace=True)\n",
    "df.columns = ['new_column_a', 'new_column_b']\n",
    "\n",
    "# notable columns operations\n",
    "df.describe() # five number summary\n",
    "df['col1'].nunique() # number of unique values\n",
    "df['col1'].value_counts() # number of occurrences of each value in column\n",
    "\n",
    "# filtering\n",
    "df[ df['col1'] < 50 ] # filter column to be less than 50\n",
    "df[ (df['col1'] == value1) & (df['col2'] > value2) ] # filter column where col1 is equal to value1 AND col2 is greater to value 2\n",
    "\n",
    "# sorting\n",
    "df.sort_values(by='column_name', ascending = False) # sort biggest to smallest\n",
    "\n",
    "```\n",
    "\n",
    "\n",
    "It's common to refer back to your own code *all the time.* Don't hesistate to reference this guide! 🐼\n",
    "\n",
    "\n"
   ]
  }
 ],
 "metadata": {
  "colab": {
   "name": "11. Exploratory Data Analysis – Solution.ipynb",
   "provenance": []
  },
  "kernelspec": {
   "display_name": "default:Python",
   "language": "python",
   "name": "conda-env-default-py"
  },
  "language_info": {
   "codemirror_mode": {
    "name": "ipython",
    "version": 3
   },
   "file_extension": ".py",
   "mimetype": "text/x-python",
   "name": "python",
   "nbconvert_exporter": "python",
   "pygments_lexer": "ipython3",
   "version": "3.9.12"
  }
 },
 "nbformat": 4,
 "nbformat_minor": 4
}
